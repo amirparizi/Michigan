{
 "cells": [
  {
   "cell_type": "markdown",
   "metadata": {},
   "source": [
    "---\n",
    "\n",
    "_You are currently looking at **version 1.1** of this notebook. To download notebooks and datafiles, as well as get help on Jupyter notebooks in the Coursera platform, visit the [Jupyter Notebook FAQ](https://www.coursera.org/learn/python-data-analysis/resources/0dhYG) course resource._\n",
    "\n",
    "---"
   ]
  },
  {
   "cell_type": "code",
   "execution_count": 56,
   "metadata": {
    "collapsed": true
   },
   "outputs": [],
   "source": [
    "import pandas as pd\n",
    "import numpy as np\n",
    "from scipy.stats import ttest_ind"
   ]
  },
  {
   "cell_type": "markdown",
   "metadata": {},
   "source": [
    "# Assignment 4 - Hypothesis Testing\n",
    "This assignment requires more individual learning than previous assignments - you are encouraged to check out the [pandas documentation](http://pandas.pydata.org/pandas-docs/stable/) to find functions or methods you might not have used yet, or ask questions on [Stack Overflow](http://stackoverflow.com/) and tag them as pandas and python related. And of course, the discussion forums are open for interaction with your peers and the course staff.\n",
    "\n",
    "Definitions:\n",
    "* A _quarter_ is a specific three month period, Q1 is January through March, Q2 is April through June, Q3 is July through September, Q4 is October through December.\n",
    "* A _recession_ is defined as starting with two consecutive quarters of GDP decline, and ending with two consecutive quarters of GDP growth.\n",
    "* A _recession bottom_ is the quarter within a recession which had the lowest GDP.\n",
    "* A _university town_ is a city which has a high percentage of university students compared to the total population of the city.\n",
    "\n",
    "**Hypothesis**: University towns have their mean housing prices less effected by recessions. Run a t-test to compare the ratio of the mean price of houses in university towns the quarter before the recession starts compared to the recession bottom. (`price_ratio=quarter_before_recession/recession_bottom`)\n",
    "\n",
    "The following data files are available for this assignment:\n",
    "* From the [Zillow research data site](http://www.zillow.com/research/data/) there is housing data for the United States. In particular the datafile for [all homes at a city level](http://files.zillowstatic.com/research/public/City/City_Zhvi_AllHomes.csv), ```City_Zhvi_AllHomes.csv```, has median home sale prices at a fine grained level.\n",
    "* From the Wikipedia page on college towns is a list of [university towns in the United States](https://en.wikipedia.org/wiki/List_of_college_towns#College_towns_in_the_United_States) which has been copy and pasted into the file ```university_towns.txt```.\n",
    "* From Bureau of Economic Analysis, US Department of Commerce, the [GDP over time](http://www.bea.gov/national/index.htm#gdp) of the United States in current dollars (use the chained value in 2009 dollars), in quarterly intervals, in the file ```gdplev.xls```. For this assignment, only look at GDP data from the first quarter of 2000 onward.\n",
    "\n",
    "Each function in this assignment below is worth 10%, with the exception of ```run_ttest()```, which is worth 50%."
   ]
  },
  {
   "cell_type": "code",
   "execution_count": 3,
   "metadata": {
    "collapsed": true
   },
   "outputs": [],
   "source": [
    "# Use this dictionary to map state names to two letter acronyms\n",
    "\n",
    "states = {'OH': 'Ohio', 'KY': 'Kentucky', 'AS': 'American Samoa', 'NV': 'Nevada', 'WY': 'Wyoming', 'NA': 'National', 'AL': 'Alabama', 'MD': 'Maryland', 'AK': 'Alaska', 'UT': 'Utah', 'OR': 'Oregon', 'MT': 'Montana', 'IL': 'Illinois', 'TN': 'Tennessee', 'DC': 'District of Columbia', 'VT': 'Vermont', 'ID': 'Idaho', 'AR': 'Arkansas', 'ME': 'Maine', 'WA': 'Washington', 'HI': 'Hawaii', 'WI': 'Wisconsin', 'MI': 'Michigan', 'IN': 'Indiana', 'NJ': 'New Jersey', 'AZ': 'Arizona', 'GU': 'Guam', 'MS': 'Mississippi', 'PR': 'Puerto Rico', 'NC': 'North Carolina', 'TX': 'Texas', 'SD': 'South Dakota', 'MP': 'Northern Mariana Islands', 'IA': 'Iowa', 'MO': 'Missouri', 'CT': 'Connecticut', 'WV': 'West Virginia', 'SC': 'South Carolina', 'LA': 'Louisiana', 'KS': 'Kansas', 'NY': 'New York', 'NE': 'Nebraska', 'OK': 'Oklahoma', 'FL': 'Florida', 'CA': 'California', 'CO': 'Colorado', 'PA': 'Pennsylvania', 'DE': 'Delaware', 'NM': 'New Mexico', 'RI': 'Rhode Island', 'MN': 'Minnesota', 'VI': 'Virgin Islands', 'NH': 'New Hampshire', 'MA': 'Massachusetts', 'GA': 'Georgia', 'ND': 'North Dakota', 'VA': 'Virginia'}"
   ]
  },
  {
   "cell_type": "code",
   "execution_count": 4,
   "metadata": {
    "collapsed": true
   },
   "outputs": [],
   "source": [
    "def get_list_of_university_towns():\n",
    "\n",
    "    df=pd.read_csv(\"university_towns.txt\",delimiter=\"\\t\",header=None,names='a')\n",
    "    states= df['a'].str.contains('t]')\n",
    "    k=0\n",
    "    df['b']=0\n",
    "    for i in range(567):\n",
    "        if states[i] == True:\n",
    "            k=i\n",
    "        else:\n",
    "            df['b'][i]=df['a'][k]\n",
    "    for i in range(567):\n",
    "        if states[i] == True:\n",
    "            df=df.drop([i])\n",
    "    df=df.reset_index(drop=True)\n",
    "\n",
    "    for i in range(517):\n",
    "        df['b'][i]= df['b'][i][0:-6]\n",
    "    df['b'] = df['b'].str.replace(r\"\\s*\\([^()]*\\)\",\"\").str.strip()\n",
    "    df['a'] = df['a'].str.replace(r\"\\s*\\([^()]*\\)\",\"\").str.strip()\n",
    "    x=pd.DataFrame([df['a'],df['b']])\n",
    "    UT=x.T\n",
    "    UT=UT.rename(columns={'b':\"State\",'a':\"RegionName\"})\n",
    "    Reg= UT['RegionName'].str.contains(']')\n",
    "\n",
    "    for i in range(517):\n",
    "        if Reg[i] == True:\n",
    "            loc=UT['RegionName'][i].index(\"[\")\n",
    "            UT['RegionName'][i]=UT['RegionName'][i][:loc]\n",
    "    for i in range(517):\n",
    "        if ('(' in UT['RegionName'][i]) == True:\n",
    "            loc1=UT['RegionName'][i].index(\"(\")\n",
    "            UT['RegionName'][i]=UT['RegionName'][i][:loc1]\n",
    "            UT['RegionName'][i]=UT['RegionName'][i][:-1]\n",
    "    for i in range(517):\n",
    "        while UT['RegionName'][i][-1] == '.':\n",
    "            UT['RegionName'][i]=UT['RegionName'][i][:-1]\n",
    "        while UT['RegionName'][i][-1] == ',':\n",
    "            UT['RegionName'][i]=UT['RegionName'][i][:-1]\n",
    "    for i in range(517):\n",
    "        if (',, and' in UT['RegionName'][i]) == True:\n",
    "            UT['RegionName'][i]=UT['RegionName'][i][:-6]\n",
    "    for i in range(100,500):\n",
    "        if ('Vernon' in UT['RegionName'][i]) == True:\n",
    "            UT['RegionName'][i]=UT['RegionName'][i]+','         \n",
    "    return UT\n",
    "    \n",
    "    \n",
    "    \n",
    "    return UT"
   ]
  },
  {
   "cell_type": "code",
   "execution_count": 66,
   "metadata": {
    "collapsed": true
   },
   "outputs": [],
   "source": [
    "def get_recession_start():\n",
    "    '''Returns the year and quarter of the recession start time as a \n",
    "    string value in a format such as 2005q3'''\n",
    "    xls=pd.read_excel('gdplev.xls')\n",
    "    quat = xls.iloc[7:,4:7]\n",
    "    anu = xls.iloc[7:,0:3]\n",
    "    anu.rename(columns={'Current-Dollar and \"Real\" Gross Domestic Product':'Year','Unnamed: 1':'GDP in billions of current dollars','Unnamed: 2':'GDP in billions of chained 2009 dollars'},inplace=True)\n",
    "    quat.rename(columns={'Unnamed: 4':'QuaterlyYear','Unnamed: 5':'GDP in billions of current dollars','Unnamed: 6':'GDP in billions of chained 2009 dollars'},inplace=True)\n",
    "    anu.reset_index(inplace=True)\n",
    "    quat.reset_index(inplace=True)\n",
    "    quat['GDP Change']=quat['GDP in billions of chained 2009 dollars'].diff()\n",
    "    quat\n",
    "    RY=[]\n",
    "    for i in range (276):\n",
    "        if (quat['GDP Change'][i]<0) & (quat['GDP Change'][i+1]<0):\n",
    "            RY.append(quat['QuaterlyYear'][i])\n",
    "\n",
    "    return RY[11]"
   ]
  },
  {
   "cell_type": "code",
   "execution_count": 67,
   "metadata": {},
   "outputs": [
    {
     "data": {
      "text/plain": [
       "'2008q3'"
      ]
     },
     "execution_count": 67,
     "metadata": {},
     "output_type": "execute_result"
    }
   ],
   "source": [
    "get_recession_start()"
   ]
  },
  {
   "cell_type": "code",
   "execution_count": 6,
   "metadata": {
    "collapsed": true
   },
   "outputs": [],
   "source": [
    "def get_recession_end():\n",
    "    xls=pd.read_excel('gdplev.xls')\n",
    "    quat = xls.iloc[7:,4:7]\n",
    "    anu = xls.iloc[7:,0:3]\n",
    "    anu.rename(columns={'Current-Dollar and \"Real\" Gross Domestic Product':'Year','Unnamed: 1':'GDP in billions of current dollars','Unnamed: 2':'GDP in billions of chained 2009 dollars'},inplace=True)\n",
    "    quat.rename(columns={'Unnamed: 4':'QuaterlyYear','Unnamed: 5':'GDP in billions of current dollars','Unnamed: 6':'GDP in billions of chained 2009 dollars'},inplace=True)\n",
    "    anu.reset_index(inplace=True)\n",
    "    quat.reset_index(inplace=True)\n",
    "    quat['GDP Change']=quat['GDP in billions of current dollars'].diff()\n",
    "    quat\n",
    "    EY=[]\n",
    "    for i in range(247,253):\n",
    "        if (quat['GDP Change'][i]>0) & (quat['GDP Change'][i+1]>0):\n",
    "            EY.append(quat['QuaterlyYear'][i+1])\n",
    "\n",
    "    return EY[0]"
   ]
  },
  {
   "cell_type": "code",
   "execution_count": 7,
   "metadata": {
    "collapsed": true
   },
   "outputs": [],
   "source": [
    "def get_recession_bottom():\n",
    "    '''Returns the year and quarter of the recession bottom time as a \n",
    "    string value in a format such as 2005q3'''\n",
    "    xls=pd.read_excel('gdplev.xls')\n",
    "    quat = xls.iloc[7:,4:7]\n",
    "    anu = xls.iloc[7:,0:3]\n",
    "    anu.rename(columns={'Current-Dollar and \"Real\" Gross Domestic Product':'Year','Unnamed: 1':'GDP in billions of current dollars','Unnamed: 2':'GDP in billions of chained 2009 dollars'},inplace=True)\n",
    "    quat.rename(columns={'Unnamed: 4':'QuaterlyYear','Unnamed: 5':'GDP in billions of current dollars','Unnamed: 6':'GDP in billions of chained 2009 dollars'},inplace=True)\n",
    "    anu.reset_index(inplace=True)\n",
    "    quat.reset_index(inplace=True)\n",
    "    quat['GDP Change']=quat['GDP in billions of current dollars'].diff()\n",
    "    t=quat.iloc[246:252]['GDP in billions of chained 2009 dollars'].argmin()\n",
    "\n",
    "    return quat['QuaterlyYear'][t]"
   ]
  },
  {
   "cell_type": "code",
   "execution_count": 74,
   "metadata": {
    "collapsed": true
   },
   "outputs": [],
   "source": [
    "def convert_housing_data_to_quarters():\n",
    "    '''Converts the housing data to quarters and returns it as mean \n",
    "    values in a dataframe. This dataframe should be a dataframe with\n",
    "    columns for 2000q1 through 2016q3, and should have a multi-index\n",
    "    in the shape of [\"State\",\"RegionName\"].\n",
    "    \n",
    "    Note: Quarters are defined in the assignment description, they are\n",
    "    not arbitrary three month periods.\n",
    "    \n",
    "    The resulting dataframe should have 67 columns, and 10,730 rows.\n",
    "    '''\n",
    "    states = {'OH': 'Ohio', 'KY': 'Kentucky', 'AS': 'American Samoa', 'NV': 'Nevada', 'WY': 'Wyoming', 'NA': 'National', 'AL': 'Alabama', 'MD': 'Maryland', 'AK': 'Alaska', 'UT': 'Utah', 'OR': 'Oregon', 'MT': 'Montana', 'IL': 'Illinois', 'TN': 'Tennessee', 'DC': 'District of Columbia', 'VT': 'Vermont', 'ID': 'Idaho', 'AR': 'Arkansas', 'ME': 'Maine', 'WA': 'Washington', 'HI': 'Hawaii', 'WI': 'Wisconsin', 'MI': 'Michigan', 'IN': 'Indiana', 'NJ': 'New Jersey', 'AZ': 'Arizona', 'GU': 'Guam', 'MS': 'Mississippi', 'PR': 'Puerto Rico', 'NC': 'North Carolina', 'TX': 'Texas', 'SD': 'South Dakota', 'MP': 'Northern Mariana Islands', 'IA': 'Iowa', 'MO': 'Missouri', 'CT': 'Connecticut', 'WV': 'West Virginia', 'SC': 'South Carolina', 'LA': 'Louisiana', 'KS': 'Kansas', 'NY': 'New York', 'NE': 'Nebraska', 'OK': 'Oklahoma', 'FL': 'Florida', 'CA': 'California', 'CO': 'Colorado', 'PA': 'Pennsylvania', 'DE': 'Delaware', 'NM': 'New Mexico', 'RI': 'Rhode Island', 'MN': 'Minnesota', 'VI': 'Virgin Islands', 'NH': 'New Hampshire', 'MA': 'Massachusetts', 'GA': 'Georgia', 'ND': 'North Dakota', 'VA': 'Virginia'}\n",
    "    \n",
    "    pl=pd.read_csv('City_Zhvi_AllHomes.csv')\n",
    "    pl.set_index([\"State\",\"RegionName\"],inplace=True)\n",
    "    pl2=pl.iloc[:,49:]\n",
    "    pl3=pl2.groupby(np.arange(len(pl2.columns))//3, axis=1).mean()\n",
    "    ren={0:'2000q1',1:'2000q2',2:'2000q3',3:'2000q4',\n",
    "         4:'2001q1',5:'2001q2',6:'2001q3',7:'2001q4',\n",
    "         8:'2002q1',9:'2002q2',10:'2003q3',11:'2003q4',\n",
    "         12:'2003q1',13:'2003q2',14:'2003q3',15:'2003q4',\n",
    "         16:'2004q1',17:'2004q2',18:'2004q3',19:'2004q4',\n",
    "         20:'2005q1',21:'2005q2',22:'2005q3',23:'2005q4',\n",
    "         24:'2006q1',25:'2006q2',26:'2006q3',27:'2006q4',\n",
    "         28:'2007q1',29:'2007q2',30:'2007q3',31:'2007q4',\n",
    "         32:'2008q1',33:'2008q2',34:'2008q3',35:'2008q4',\n",
    "         36:'2009q1',37:'2009q2',38:'2009q3',39:'2009q4',\n",
    "         40:'2010q1',41:'2010q2',42:'2010q3',43:'2010q4',\n",
    "         44:'2011q1',45:'2011q2',46:'2011q3',47:'2011q4',\n",
    "         48:'2012q1',49:'2012q2',50:'2012q3',51:'2012q4',\n",
    "         52:'2013q1',53:'2013q2',54:'2013q3',55:'2013q4',\n",
    "         56:'2014q1',57:'2014q2',58:'2014q3',59:'2014q4',\n",
    "         60:'2015q1',61:'2015q2',62:'2015q3',63:'2015q4',\n",
    "         64:'2016q1',65:'2016q2',66:'2016q3'}\n",
    "    pl3.rename(columns=ren,index=states,inplace=True)\n",
    "    \n",
    "    return pl3"
   ]
  },
  {
   "cell_type": "code",
   "execution_count": 76,
   "metadata": {
    "collapsed": true
   },
   "outputs": [],
   "source": [
    "def run_ttest():\n",
    "    '''First creates new data showing the decline or growth of housing prices\n",
    "    between the recession start and the recession bottom. Then runs a ttest\n",
    "    comparing the university town values to the non-university towns values, \n",
    "    return whether the alternative hypothesis (that the two groups are the same)\n",
    "    is true or not as well as the p-value of the confidence. \n",
    "    \n",
    "    Return the tuple (different, p, better) where different=True if the t-test is\n",
    "    True at a p<0.01 (we reject the null hypothesis), or different=False if \n",
    "    otherwise (we cannot reject the null hypothesis). The variable p should\n",
    "    be equal to the exact p value returned from scipy.stats.ttest_ind(). The\n",
    "    value for better should be either \"university town\" or \"non-university town\"\n",
    "    depending on which has a lower mean price ratio (which is equivilent to a\n",
    "    reduced market loss).'''\n",
    "    HDQ=convert_housing_data_to_quarters()\n",
    "    gl=get_list_of_university_towns()\n",
    "    HDQ['price_ratio']=HDQ['2008q2']/HDQ[get_recession_bottom()]\n",
    "    HDQ['UT']=0\n",
    "    HDQ.sort_index()\n",
    "    HDQ.reset_index(inplace=True) \n",
    "    UTR=pd.merge(HDQ,gl,how='inner',on=['RegionName','State'])\n",
    "    NUTR= HDQ.merge(gl, how = 'outer' ,indicator=True).loc[lambda x : x['_merge']=='left_only']\n",
    "    (statistic,pvalue)=ttest_ind(NUTR['price_ratio'],UTR['price_ratio'],nan_policy='omit')\n",
    "    if pvalue < 0.01:\n",
    "        difference= True\n",
    "    else:\n",
    "        difference= False\n",
    "    \n",
    "    return (difference,pvalue,\"university town\")"
   ]
  },
  {
   "cell_type": "code",
   "execution_count": null,
   "metadata": {
    "collapsed": true
   },
   "outputs": [],
   "source": []
  }
 ],
 "metadata": {
  "coursera": {
   "course_slug": "python-data-analysis",
   "graded_item_id": "Il9Fx",
   "launcher_item_id": "TeDW0",
   "part_id": "WGlun"
  },
  "kernelspec": {
   "display_name": "Python 3",
   "language": "python",
   "name": "python3"
  },
  "language_info": {
   "codemirror_mode": {
    "name": "ipython",
    "version": 3
   },
   "file_extension": ".py",
   "mimetype": "text/x-python",
   "name": "python",
   "nbconvert_exporter": "python",
   "pygments_lexer": "ipython3",
   "version": "3.6.2"
  }
 },
 "nbformat": 4,
 "nbformat_minor": 1
}
